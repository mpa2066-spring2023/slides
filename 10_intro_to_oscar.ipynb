{
 "cells": [
  {
   "cell_type": "markdown",
   "id": "295fad01",
   "metadata": {
    "slideshow": {
     "slide_type": "slide"
    }
   },
   "source": [
    "<center><h1>Introduction to Oscar</h1></center>\n",
    "<center><h3>Paul Stey</h3></center>\n",
    "\n"
   ]
  },
  {
   "cell_type": "markdown",
   "id": "6d7bca04",
   "metadata": {
    "slideshow": {
     "slide_type": "slide"
    }
   },
   "source": [
    "# What is Oscar?\n",
    "\n",
    "* Brown’s primary supercomputer \n",
    "* High-performance computing (HPC) cluster\n",
    "* 400 nodes and >15,000 cores\n",
    "  + Both CPU and GPU nodes (heterogeneous architectures)\n",
    "  + 4.3 PB of storage via GPFS\n",
    "* About 500 GPUs\n",
    "* OS: Red Hat Enterprise Linux 7.9\n",
    "* Maintained and supported by CCV \n",
    "* Accounts available to members of the Brown community \n"
   ]
  },
  {
   "cell_type": "markdown",
   "id": "a62a3dd7",
   "metadata": {
    "slideshow": {
     "slide_type": "subslide"
    }
   },
   "source": [
    "## What is HPC?\n",
    "\n",
    "* High-Performance Computing\n",
    "  + The application of \"supercomputers\" to computational problems that are either too large for standard computers or would take too long.\n"
   ]
  },
  {
   "cell_type": "markdown",
   "id": "fed2c5c2",
   "metadata": {
    "slideshow": {
     "slide_type": "subslide"
    }
   },
   "source": [
    "## What is CCV?\n",
    "\n",
    "* Center for Computation and Visualization\n",
    "  1. Operations Group\n",
    "    + Systems team\n",
    "    + Research Technical Services team\n",
    "  2. Research Software Engineering & Data Science\n",
    "    + High-Performance Computing (HPC)\n",
    "    + Graphics, Software, and Data Core (GSDC)\n",
    "    + Computational Biology Core\n"
   ]
  },
  {
   "cell_type": "markdown",
   "id": "759c607d",
   "metadata": {
    "slideshow": {
     "slide_type": "subslide"
    }
   },
   "source": [
    "## How does Oscar work?\n",
    "\n",
    "<center><img src=\"images/cpu_mem.png\" width=640/></center>"
   ]
  },
  {
   "cell_type": "markdown",
   "id": "42b49f67",
   "metadata": {
    "slideshow": {
     "slide_type": "subslide"
    }
   },
   "source": [
    "## How does Oscar work (cont.)?\n",
    "\n",
    "<center><img src=\"images/multi-cpu.png\" width=640/></center>"
   ]
  },
  {
   "cell_type": "markdown",
   "id": "229c8479",
   "metadata": {
    "slideshow": {
     "slide_type": "subslide"
    }
   },
   "source": [
    "## How does Oscar work (cont.)?\n",
    "\n",
    "<center><img src=\"images/oscar.png\" width=640/></center>"
   ]
  },
  {
   "cell_type": "markdown",
   "id": "3c830732",
   "metadata": {
    "slideshow": {
     "slide_type": "subslide"
    }
   },
   "source": [
    "## How does Oscar work (cont.)?\n",
    "\n",
    "<center><img src=\"images/oscar_detail.png\" width=640/></center>"
   ]
  },
  {
   "cell_type": "markdown",
   "id": "9da77457",
   "metadata": {
    "slideshow": {
     "slide_type": "subslide"
    }
   },
   "source": [
    "<center><img src=\"images/summit.jpg\"/></center>"
   ]
  },
  {
   "cell_type": "markdown",
   "id": "48249794",
   "metadata": {
    "slideshow": {
     "slide_type": "slide"
    }
   },
   "source": [
    "# How is using Oscar Different?\n",
    "\n",
    "* You are not an administrator\n",
    "  + No root access/admin permissions\n",
    "* Shared system, need to request resources from scheduler (SLURM)\n",
    "  + How many cores?\n",
    "  + How much memory?\n",
    "  + How much time?"
   ]
  },
  {
   "cell_type": "markdown",
   "id": "63eab476",
   "metadata": {
    "slideshow": {
     "slide_type": "subslide"
    }
   },
   "source": [
    "## How can I connect to Oscar?\n",
    "\n",
    "* Terminal\n",
    "  + Text-based command line interface (CLI)\n",
    "  + Used to connect to login or transfer nodes\n",
    "  + Session ends when connection is closed\n",
    "  + Requires a terminal application\n",
    "    - Linux/Mac - terminal application\n",
    "    - Windows - ssh client (PuTTY, MobaXterm)\n",
    "* Open OnDemand\n",
    "  + Science gateway\n",
    "  + Web-based application\n",
    "  + Access via web browsers\n"
   ]
  },
  {
   "cell_type": "markdown",
   "id": "4ae737d3",
   "metadata": {
    "slideshow": {
     "slide_type": "subslide"
    }
   },
   "source": [
    "## Login Nodes (Dos and Don'ts)\n",
    "\n",
    "* OK\n",
    "  + Text editing\n",
    "  + Copying/Moving files\n",
    "  + Compiling\n",
    "  + Submitting jobs to scheduler\n",
    "\n",
    "* **Not** OK\n",
    "  + Running CPU-intensive applications/scripts\n",
    "  + Running Memory-intensive applications/scripts\n",
    "  + Running MATLAB\n"
   ]
  },
  {
   "cell_type": "markdown",
   "id": "be7a7ce8",
   "metadata": {
    "slideshow": {
     "slide_type": "slide"
    }
   },
   "source": [
    "# Software on Oscar\n",
    "\n",
    "* Modules\n",
    "  + Pre-installed software packages on Oscar\n",
    "  + Used to manage different versions of software\n",
    "  + Loading a module modifies a user’s environment (e.g., `PATH`)\n"
   ]
  },
  {
   "cell_type": "markdown",
   "id": "40196b02",
   "metadata": {
    "slideshow": {
     "slide_type": "subslide"
    }
   },
   "source": [
    "## Software Module commands:\n",
    "\n",
    "`module list`                 = see modules you currently have loaded\n",
    "\n",
    "`module avail`                = see packages available on Oscar\n",
    "\n",
    "`module load <name>`          = make package available in your environment\n",
    "\n",
    "`module unload <name>`        = remove a package from your environment\n",
    "\n",
    "`module show <name>`          = see how loading a given module changes environment\n"
   ]
  },
  {
   "cell_type": "markdown",
   "id": "cc6021be",
   "metadata": {
    "slideshow": {
     "slide_type": "subslide"
    }
   },
   "source": [
    "# Interactive jobs on Oscar\n",
    "\n",
    "* Use `interact` to obtain a resource allocation on a compute node\n",
    "  + request cores, memory, time (also GPU, partition)\n",
    "* To launch a job on a standard (CPU) compute node:\n",
    "  + `interact -n <#cores> -m <#GB> -t <hh:mm:ss>`\n",
    "  + example: `interact -n 2 -m 16G -t 02:00:00`\n",
    "* To launch a job on a GPU compute node:\n",
    "  + `interact -q gpu -g <#gpus> -n <#cores> -m <#GB> -t <hh:mm:ss>`\n",
    "  + example: `interact -q gpu -g 1 -n 2 -m 8G -t 00:20:00`\n",
    "\n"
   ]
  },
  {
   "cell_type": "markdown",
   "id": "f105ce32",
   "metadata": {
    "slideshow": {
     "slide_type": "subslide"
    }
   },
   "source": [
    "## Batch jobs on Oscar\n",
    "\n",
    "* Write up instructions for job as a batch script\n",
    "* Submit the job to Oscar’s scheduler (i.e., SLURM)\n",
    "* Once submitted, Oscar schedules and runs the job without any further interaction from you\n",
    "* You can choose to be notified via email when job completes\n"
   ]
  },
  {
   "cell_type": "markdown",
   "id": "824ad6ff",
   "metadata": {
    "slideshow": {
     "slide_type": "slide"
    }
   },
   "source": [
    "# Editing Files with Vim\n",
    "\n",
    "Vim is a \"modal\" text editor, and there are several different modes.\n",
    "\n",
    "1. _Normal mode_: for moving around the text/code file\n",
    "2. _Insert mode_: for regular text editing (e.g., writing)\n",
    "3. _Visual mode_: used for highlighting"
   ]
  },
  {
   "cell_type": "markdown",
   "id": "bda12633",
   "metadata": {
    "slideshow": {
     "slide_type": "subslide"
    }
   },
   "source": [
    "## Three Critical Vim Commands\n",
    "\n",
    "* `<ESC>`: The Escape key gets us back to _Normal_ mode\n",
    "* `i`: This key gets us in to _Insert_ mode\n",
    "* `:wq <Enter>`: This saves and quits Vim\n",
    "* `:q! <Enter>`: Quits Vim and discards changes"
   ]
  },
  {
   "cell_type": "markdown",
   "id": "1f86ccde",
   "metadata": {
    "slideshow": {
     "slide_type": "subslide"
    }
   },
   "source": [
    "## Cursor Movement in Vim (Normal mode)\n",
    "\n",
    "<br>\n",
    "<br>\n",
    "\n",
    "\n",
    "<center><img src=\"images/vim.png\" width=640/></center>"
   ]
  },
  {
   "cell_type": "markdown",
   "id": "fa2d4fc1",
   "metadata": {
    "slideshow": {
     "slide_type": "subslide"
    }
   },
   "source": [
    "## Vim Operators\n",
    "\n",
    "\n",
    "1. `d`: delete\n",
    "2. `c`: change (delete and go into insert mode)\n",
    "3. `y`: \"yank\" (i.e., copy)\n",
    "4. `v`: visual (i.e., highlight)"
   ]
  },
  {
   "cell_type": "markdown",
   "id": "3a30dffc",
   "metadata": {
    "slideshow": {
     "slide_type": "subslide"
    }
   },
   "source": [
    "## Cursor Movement in Vim (Normal mode)\n",
    "\n",
    "<br>\n",
    "<br>\n",
    "\n",
    "\n",
    "<center><img src=\"images/operator_motion.png\" width=640/></center>"
   ]
  },
  {
   "cell_type": "markdown",
   "id": "da054152",
   "metadata": {
    "slideshow": {
     "slide_type": "subslide"
    }
   },
   "source": [
    "## More Common Vim Commands\n",
    "\n",
    "\n",
    "1. `x`: delete character under cursor\n",
    "2. `u`: undo\n",
    "3. `w`: word (used alone, will move forward 1 word)\n",
    "4. `b`: back (used alone, will move back 1 word)\n",
    "5. `f <char>`: find the first iteration of `<char>` in the current line"
   ]
  },
  {
   "cell_type": "markdown",
   "id": "d8a5c223",
   "metadata": {
    "slideshow": {
     "slide_type": "slide"
    }
   },
   "source": [
    "<center><h1>Challenge Problem</h1></center>\n",
    "\n",
    "We have some exercises that involve submitting jobs on Oscar. Complete the follow steps.\n",
    "\n",
    "(1.) Log in to Oscar\n",
    "\n",
    "(2.) In your home directory, create a directory called `projects`.\n",
    "\n",
    "(3.) `cd` in to that new directory.\n",
    "\n",
    "(4.) Copy the following directory in to your new `projects` directory\n",
    "\n",
    "`/gpfs/data/shared/mpa2066/week11`\n",
    "\n",
    "\n",
    "<br>\n",
    "<br>\n",
    "\n",
    "\n",
    "**Hint**: Recall that the `cp` command can be used to copy files or directories. Also note that since `week11` is a directory, we need to use the `-R` flag (for recursive copy) when copying it to our `projects` directory."
   ]
  },
  {
   "cell_type": "markdown",
   "id": "b3b107e6",
   "metadata": {
    "slideshow": {
     "slide_type": "slide"
    }
   },
   "source": [
    "# Open OnDemand\n",
    "\n",
    "* User-friendly interface: OOD offers a web-based interface that allows researchers to interact with HPC resources without requiring advanced computing skills, making it easy to use for both beginners and experts.\n",
    "\n",
    "* No additional software needed: Users can access and manage HPC resources directly from their web browser without the need to install additional software or learn command-line tools.\n",
    "\n",
    "* Job management and monitoring: OOD provides a comprehensive job management interface where users can submit, monitor, and manage their computational tasks, as well as access detailed information about job status and resource usage.\n",
    "\n",
    "* Support for diverse applications: Open OnDemand supports a wide range of scientific applications, including computational chemistry, biology, engineering, and data analysis tools, enabling researchers from various disciplines to utilize HPC resources effectively.\n",
    "\n",
    "* Open-source and community-driven: OOD is an open-source project developed and maintained by the Ohio Supercomputer Center, with active participation from the wider HPC community. "
   ]
  }
 ],
 "metadata": {
  "celltoolbar": "Slideshow",
  "kernelspec": {
   "display_name": "Python 3 (ipykernel)",
   "language": "python",
   "name": "python3"
  },
  "language_info": {
   "codemirror_mode": {
    "name": "ipython",
    "version": 3
   },
   "file_extension": ".py",
   "mimetype": "text/x-python",
   "name": "python",
   "nbconvert_exporter": "python",
   "pygments_lexer": "ipython3",
   "version": "3.8.11"
  }
 },
 "nbformat": 4,
 "nbformat_minor": 5
}
