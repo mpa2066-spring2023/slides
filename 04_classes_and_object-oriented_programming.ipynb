{
 "cells": [
  {
   "cell_type": "markdown",
   "id": "4e71fa22",
   "metadata": {
    "slideshow": {
     "slide_type": "slide"
    }
   },
   "source": [
    "<center><h1>Classes and Object-Oriented Programming</h1></center>\n",
    "\n",
    "<center><h3>Paul Stey</h3></center>\n",
    "<center><h3>2023-02-15</h3></center>"
   ]
  },
  {
   "cell_type": "markdown",
   "id": "7ff1bc5a",
   "metadata": {
    "slideshow": {
     "slide_type": "slide"
    }
   },
   "source": [
    "# Object-Oriented Programming\n",
    "\n",
    "* Object-oriented programming (OOP) is a programming paradigm \n",
    "\n",
    "* Focuses on creating and organizing code into objects that interact with each other to perform tasks and solve problems\n",
    "\n",
    "* Objects are instances of classes, which are like blueprints or templates that define the properties (attributes) and behaviors (methods) of the objects\n",
    "\n",
    "* OOP emphasizes encapsulation; implementation details of an object are hidden from the rest of the program, and only a well-defined interface is exposed to other objects\n",
    "\n",
    "* Inheritance is another key feature of OOP, which allows new classes to be based on existing classes, inheriting their properties and behaviors and allowing for code reuse and extension."
   ]
  },
  {
   "cell_type": "markdown",
   "id": "85a6a671",
   "metadata": {
    "slideshow": {
     "slide_type": "subslide"
    }
   },
   "source": [
    "## Object-Oriented Programming in Python\n",
    "\n",
    "* Python is an object-oriented language that uses many of the conventional elements of OOP (e.g., classes, objects, inheritance, etc.)\n",
    "\n",
    "* We have already been using objects in Python; `list`, `dict`, `set` are all objects in Python"
   ]
  },
  {
   "cell_type": "markdown",
   "id": "3ef35cf4",
   "metadata": {
    "slideshow": {
     "slide_type": "subslide"
    }
   },
   "source": [
    "### What is an Object? What is a Class?\n",
    "\n",
    "* An object is an instance of a class\n",
    "\n",
    "* A class is a blueprint for a type that _we_ define\n",
    "\n",
    "* Classes are basically types that we define ourselves"
   ]
  },
  {
   "cell_type": "code",
   "execution_count": null,
   "id": "52ab741a",
   "metadata": {
    "slideshow": {
     "slide_type": "fragment"
    }
   },
   "outputs": [],
   "source": [
    "class Person: \n",
    "    def __init__(self, name, job, pay):        # __init__() is our constructor, it takes 3 arguments\n",
    "        self.name = name\n",
    "        self.job = job\n",
    "        self.pay = pay\n"
   ]
  },
  {
   "cell_type": "code",
   "execution_count": null,
   "id": "fdc03110",
   "metadata": {
    "slideshow": {
     "slide_type": "fragment"
    }
   },
   "outputs": [],
   "source": [
    "sue = Person(\"Sue Jones\", \"dev\", 100_000)     # Person() uses our __init__() constructor\n",
    "\n",
    "bob = Person(\"Bob Lee\", \"designer\", 70_000)"
   ]
  },
  {
   "cell_type": "code",
   "execution_count": null,
   "id": "80e959a1",
   "metadata": {
    "slideshow": {
     "slide_type": "fragment"
    }
   },
   "outputs": [],
   "source": [
    "print(sue.name)                               # print our object's attributes\n",
    "\n",
    "print(bob.pay)"
   ]
  },
  {
   "cell_type": "markdown",
   "id": "a754dc64",
   "metadata": {
    "slideshow": {
     "slide_type": "subslide"
    }
   },
   "source": [
    "### Default Values in Constructor"
   ]
  },
  {
   "cell_type": "code",
   "execution_count": null,
   "id": "3bb1eeb7",
   "metadata": {
    "slideshow": {
     "slide_type": "fragment"
    }
   },
   "outputs": [],
   "source": [
    "class Person: \n",
    "    def __init__(self, name, job = None, pay = 0):  # default values for our constructor\n",
    "        self.name = name\n",
    "        self.job = job\n",
    "        self.pay = pay\n"
   ]
  },
  {
   "cell_type": "code",
   "execution_count": null,
   "id": "4b4be9ea",
   "metadata": {
    "slideshow": {
     "slide_type": "fragment"
    }
   },
   "outputs": [],
   "source": [
    "jane = Person(\"Jane Wallace\")"
   ]
  },
  {
   "cell_type": "code",
   "execution_count": null,
   "id": "e28aa44d",
   "metadata": {
    "slideshow": {
     "slide_type": "fragment"
    }
   },
   "outputs": [],
   "source": [
    "print(jane.job)\n",
    "\n",
    "print(jane.pay)"
   ]
  },
  {
   "cell_type": "code",
   "execution_count": null,
   "id": "102da18e",
   "metadata": {
    "slideshow": {
     "slide_type": "fragment"
    }
   },
   "outputs": [],
   "source": [
    "type(jane)"
   ]
  },
  {
   "cell_type": "markdown",
   "id": "c8d3c745",
   "metadata": {
    "slideshow": {
     "slide_type": "subslide"
    }
   },
   "source": [
    "## Accessing and Updating Attributes"
   ]
  },
  {
   "cell_type": "code",
   "execution_count": null,
   "id": "04c74bff",
   "metadata": {},
   "outputs": [],
   "source": [
    "jane.job = \"senior dev\"\n",
    "jane.pay = 120_000\n",
    "\n",
    "print(jane.job)\n",
    "print(jane.pay)"
   ]
  },
  {
   "cell_type": "markdown",
   "id": "148cf8d3",
   "metadata": {
    "slideshow": {
     "slide_type": "subslide"
    }
   },
   "source": [
    "## Adding Methods \n",
    "\n",
    "* Right now, our class only has a constructor\n",
    "* We can add methods as we want to give our `Person` class more behavior"
   ]
  },
  {
   "cell_type": "code",
   "execution_count": null,
   "id": "702a3e80",
   "metadata": {
    "slideshow": {
     "slide_type": "-"
    }
   },
   "outputs": [],
   "source": [
    "class Person: \n",
    "    def __init__(self, name, job = None, pay = 0):  # default values for our constructor\n",
    "        self.name = name\n",
    "        self.job = job\n",
    "        self.pay = pay\n",
    "\n",
    "    def last_name(self):\n",
    "        return self.name.split()[-1]\n",
    "    \n",
    "    def give_raise(self, percent):\n",
    "        self.pay = int(self.pay * (1 + percent))"
   ]
  },
  {
   "cell_type": "code",
   "execution_count": null,
   "id": "ac834a46",
   "metadata": {
    "slideshow": {
     "slide_type": "fragment"
    }
   },
   "outputs": [],
   "source": [
    "sue = Person(\"Sue Jones\", \"dev\", 100_000) \n",
    "\n",
    "sue.last_name()"
   ]
  },
  {
   "cell_type": "code",
   "execution_count": null,
   "id": "3baae092",
   "metadata": {
    "slideshow": {
     "slide_type": "fragment"
    }
   },
   "outputs": [],
   "source": [
    "sue.give_raise(0.15)"
   ]
  },
  {
   "cell_type": "code",
   "execution_count": null,
   "id": "f82833ef",
   "metadata": {
    "slideshow": {
     "slide_type": "fragment"
    }
   },
   "outputs": [],
   "source": [
    "print(sue.pay)"
   ]
  },
  {
   "cell_type": "markdown",
   "id": "e69c9421",
   "metadata": {
    "slideshow": {
     "slide_type": "subslide"
    }
   },
   "source": [
    "## More Interesting Attributes\n"
   ]
  },
  {
   "cell_type": "code",
   "execution_count": null,
   "id": "0f2a71cb",
   "metadata": {
    "slideshow": {
     "slide_type": "-"
    }
   },
   "outputs": [],
   "source": [
    "import math\n",
    "\n",
    "class Vector:\n",
    "    def __init__(self, *args):\n",
    "        self.data = list(args)\n",
    "        self.length = len(self.data)\n",
    "        \n",
    "    def append(self, value):\n",
    "        self.data.append(value)\n",
    "        self.length = len(self.data)\n",
    "    \n",
    "    def l2_norm(self):\n",
    "        return math.sqrt(sum([elem**2 for elem in self.data]))"
   ]
  },
  {
   "cell_type": "code",
   "execution_count": null,
   "id": "04650243",
   "metadata": {
    "slideshow": {
     "slide_type": "fragment"
    }
   },
   "outputs": [],
   "source": [
    "v1 = Vector(3, 4, 5, 6)\n",
    "\n",
    "v1.length"
   ]
  },
  {
   "cell_type": "code",
   "execution_count": null,
   "id": "145191df",
   "metadata": {
    "slideshow": {
     "slide_type": "fragment"
    }
   },
   "outputs": [],
   "source": [
    "v1.l2_norm()"
   ]
  },
  {
   "cell_type": "code",
   "execution_count": null,
   "id": "cb8b0d72",
   "metadata": {
    "slideshow": {
     "slide_type": "fragment"
    }
   },
   "outputs": [],
   "source": [
    "v1.data[0]          # get first element of our vector"
   ]
  },
  {
   "cell_type": "code",
   "execution_count": null,
   "id": "121636a3",
   "metadata": {
    "slideshow": {
     "slide_type": "fragment"
    }
   },
   "outputs": [],
   "source": [
    "v1.append(999)\n",
    "\n",
    "print(v1.data)"
   ]
  },
  {
   "cell_type": "markdown",
   "id": "f2653718",
   "metadata": {
    "slideshow": {
     "slide_type": "slide"
    }
   },
   "source": [
    "<center><h1>Challenge Problem</h1></center>\n",
    "\n",
    "You are designing a game where players navigate through a maze. Write a Python class called `Player` that represents a player in the game. The class should have the following attributes and methods:\n",
    "\n",
    "Attributes:\n",
    "  * `name`: a string that represents the name of the player.\n",
    "  * `position`: a list of two integers that represents the player's position in the maze (x, y).\n",
    "\n",
    "Methods:\n",
    "  * `move_up()`: increment y (i.e., `position[1]`) by 1\n",
    "  * `move_down()`: decrement y by 1\n",
    "  * `move_left()`: decrement x by 1 \n",
    "  * `move_right()`: increment x by 1\n",
    "  * `get_position()`: this method should return the player's current position\n",
    "  \n"
   ]
  },
  {
   "cell_type": "markdown",
   "id": "397505ac",
   "metadata": {
    "slideshow": {
     "slide_type": "subslide"
    }
   },
   "source": [
    "## Providing Print Displays"
   ]
  },
  {
   "cell_type": "code",
   "execution_count": null,
   "id": "85d4271e",
   "metadata": {
    "slideshow": {
     "slide_type": "-"
    }
   },
   "outputs": [],
   "source": [
    "print(sue)               # print() function relies on __repr__()"
   ]
  },
  {
   "cell_type": "code",
   "execution_count": null,
   "id": "168ecb12",
   "metadata": {},
   "outputs": [],
   "source": [
    "class Person: \n",
    "    def __init__(self, name, job = None, pay = 0):  # default values for our constructor\n",
    "        self.name = name\n",
    "        self.job = job\n",
    "        self.pay = pay\n",
    "\n",
    "    def last_name(self):\n",
    "        return self.name.split()[-1]\n",
    "    \n",
    "    def give_raise(self, percent):\n",
    "        self.pay = int(self.pay * (1 + percent))\n",
    "        \n",
    "    def __repr__(self):\n",
    "        return '[Person: %s, %s]' % (self.name, self.pay)"
   ]
  },
  {
   "cell_type": "code",
   "execution_count": null,
   "id": "26b30c6d",
   "metadata": {
    "slideshow": {
     "slide_type": "fragment"
    }
   },
   "outputs": [],
   "source": [
    "sue = Person(\"Sue Jones\", \"dev\", 100_000) \n",
    "\n",
    "print(sue)"
   ]
  },
  {
   "cell_type": "markdown",
   "id": "f4e10099",
   "metadata": {
    "slideshow": {
     "slide_type": "slide"
    }
   },
   "source": [
    "# Inheritance\n",
    "\n",
    "* The ability to create sub-classes that \"inherit\" from the super-class is enormously powerful\n",
    "* It's a way to define shared behavior\n"
   ]
  },
  {
   "cell_type": "code",
   "execution_count": null,
   "id": "7c317e3f",
   "metadata": {
    "slideshow": {
     "slide_type": "fragment"
    }
   },
   "outputs": [],
   "source": [
    "class Manager(Person):\n",
    "    def give_raise(self, percent, bonus = 0.1):\n",
    "        self.pay = int(self.pay * (1 + percent + bonus))   # bad: copy and pasting code \n"
   ]
  },
  {
   "cell_type": "code",
   "execution_count": null,
   "id": "2ff0aa6f",
   "metadata": {
    "slideshow": {
     "slide_type": "fragment"
    }
   },
   "outputs": [],
   "source": [
    "class Manager(Person):\n",
    "    def give_raise(self, percent, bonus = 0.1):\n",
    "        Person.give_raise(self, percent + bonus)           # good: augment original method \n"
   ]
  },
  {
   "cell_type": "code",
   "execution_count": null,
   "id": "f6ddb340",
   "metadata": {
    "slideshow": {
     "slide_type": "fragment"
    }
   },
   "outputs": [],
   "source": [
    "sally = Manager(\"Sally Ride\", \"CTO\", 130_000)"
   ]
  },
  {
   "cell_type": "code",
   "execution_count": null,
   "id": "93bd1239",
   "metadata": {
    "slideshow": {
     "slide_type": "fragment"
    }
   },
   "outputs": [],
   "source": [
    "sally.last_name()"
   ]
  },
  {
   "cell_type": "markdown",
   "id": "e68c8eb0",
   "metadata": {
    "slideshow": {
     "slide_type": "slide"
    }
   },
   "source": [
    "<center><h1>Challenge Problem</h1></center>\n",
    "\n",
    "Let's create an `Animal` class that has the attributes `name` and `age`. Let's also define the `__repr__()` method so that calling the `print()` function on an `Animal` object will print the `name` attribute.\n",
    "\n",
    "Finally, let's create another class called `Cat` that inherits from the `Animal` class. This new class should have a `speak()` method that prints this string when called: `\"meow\"`. "
   ]
  },
  {
   "cell_type": "markdown",
   "id": "450c14fc",
   "metadata": {
    "slideshow": {
     "slide_type": "slide"
    }
   },
   "source": [
    "# Operator Overloading\n",
    "\n",
    "* We can use the usual Python operators (e.g., `+`, `-`, etc.) with our classes\n",
    "* This involves using the magic/\"dunder\" methods"
   ]
  },
  {
   "cell_type": "code",
   "execution_count": null,
   "id": "65ec5d6c",
   "metadata": {
    "slideshow": {
     "slide_type": "fragment"
    }
   },
   "outputs": [],
   "source": [
    "class Number:\n",
    "    def __init__(self, start):\n",
    "        self.data = start\n",
    "    \n",
    "    def __add__(self, other):                    # implements the `+` operator\n",
    "        return Number(self.data + other.data)"
   ]
  },
  {
   "cell_type": "code",
   "execution_count": null,
   "id": "ac771e28",
   "metadata": {
    "slideshow": {
     "slide_type": "fragment"
    }
   },
   "outputs": [],
   "source": [
    "x = Number(1)\n",
    "y = Number(41)"
   ]
  },
  {
   "cell_type": "code",
   "execution_count": null,
   "id": "f3c1f16b",
   "metadata": {
    "slideshow": {
     "slide_type": "fragment"
    }
   },
   "outputs": [],
   "source": [
    "z = x + y\n",
    "\n",
    "print(z.data)"
   ]
  },
  {
   "cell_type": "markdown",
   "id": "227a1b5c",
   "metadata": {
    "slideshow": {
     "slide_type": "subslide"
    }
   },
   "source": [
    "### More Operator Overloading\n",
    "\n",
    "* Let's extend our number class a bit more"
   ]
  },
  {
   "cell_type": "code",
   "execution_count": null,
   "id": "1675760e",
   "metadata": {
    "slideshow": {
     "slide_type": "-"
    }
   },
   "outputs": [],
   "source": [
    "class Number:\n",
    "    def __init__(self, start):\n",
    "        self.data = start\n",
    "    \n",
    "    def __add__(self, other):\n",
    "        return Number(self.data + other.data)\n",
    "    \n",
    "    def __sub__(self, other):\n",
    "        return Number(self.data - other.data)\n",
    "\n",
    "    def __mul__(self, other):\n",
    "        return Number(self.data * other.data)\n",
    "\n",
    "    def __div__(self, other):\n",
    "        return Number(self.data / other.data)\n",
    "        \n",
    "    def __repr__(self):\n",
    "        return str(self.data)"
   ]
  },
  {
   "cell_type": "code",
   "execution_count": null,
   "id": "acba50d3",
   "metadata": {
    "slideshow": {
     "slide_type": "fragment"
    }
   },
   "outputs": [],
   "source": [
    "a = Number(12)\n",
    "b = Number(3)\n",
    "\n",
    "c = a * b"
   ]
  },
  {
   "cell_type": "code",
   "execution_count": null,
   "id": "6c7ea21a",
   "metadata": {
    "slideshow": {
     "slide_type": "fragment"
    }
   },
   "outputs": [],
   "source": [
    "print(c)"
   ]
  },
  {
   "cell_type": "markdown",
   "id": "d8beecea",
   "metadata": {
    "slideshow": {
     "slide_type": "subslide"
    }
   },
   "source": [
    "## Implementing Equality and In-Equality"
   ]
  },
  {
   "cell_type": "code",
   "execution_count": null,
   "id": "20a5fdf1",
   "metadata": {
    "slideshow": {
     "slide_type": "-"
    }
   },
   "outputs": [],
   "source": [
    "Number(3) == Number(3)           # ¯\\_(ツ)_/¯"
   ]
  },
  {
   "cell_type": "code",
   "execution_count": null,
   "id": "993f9bd1",
   "metadata": {
    "slideshow": {
     "slide_type": "subslide"
    }
   },
   "outputs": [],
   "source": [
    "class Number:\n",
    "    def __init__(self, start):\n",
    "        self.data = start\n",
    "    \n",
    "    def __add__(self, other):\n",
    "        return Number(self.data + other.data)\n",
    "    \n",
    "    def __sub__(self, other):\n",
    "        return Number(self.data - other.data)\n",
    "\n",
    "    def __mul__(self, other):\n",
    "        return Number(self.data * other.data)\n",
    "\n",
    "    def __div__(self, other):\n",
    "        return Number(self.data / other.data)\n",
    "        \n",
    "    def __repr__(self):\n",
    "        return str(self.data)\n",
    "    \n",
    "    def __eq__(self, other):                         # implements the `==` operator\n",
    "        return Number(self.data == other.data)\n",
    "\n",
    "    def __ne__(self, other):                         # implements the `!=` operator\n",
    "        return Number(self.data != other.data)"
   ]
  },
  {
   "cell_type": "code",
   "execution_count": null,
   "id": "b14f5b2d",
   "metadata": {
    "slideshow": {
     "slide_type": "fragment"
    }
   },
   "outputs": [],
   "source": [
    "Number(3) == Number(3)"
   ]
  },
  {
   "cell_type": "code",
   "execution_count": null,
   "id": "70fa4eea",
   "metadata": {
    "slideshow": {
     "slide_type": "fragment"
    }
   },
   "outputs": [],
   "source": [
    "Number(4) != Number(4)"
   ]
  },
  {
   "cell_type": "markdown",
   "id": "b9ebd8a1",
   "metadata": {
    "slideshow": {
     "slide_type": "slide"
    }
   },
   "source": [
    "# Sharing Data with all Class Instances\n",
    "\n",
    "* We have so far only worked with _instance attributes_ \n",
    "  - These are data elements bound to an _instance_ of a class\n",
    "* We can also bind attributes to the class itself; these are class attributes\n",
    "  - Can be used for setting constants, default values, or for sharing data among members of a class"
   ]
  },
  {
   "cell_type": "code",
   "execution_count": null,
   "id": "c64962ce",
   "metadata": {
    "slideshow": {
     "slide_type": "fragment"
    }
   },
   "outputs": [],
   "source": [
    "class Person: \n",
    "    all_people = []                                 # class attribute accessible by instances of class\n",
    "    \n",
    "    def __init__(self, name, job = None, pay = 0):  # default values for our constructor\n",
    "        self.name = name\n",
    "        self.job = job\n",
    "        self.pay = pay\n",
    "        Person.all_people.append(name)"
   ]
  },
  {
   "cell_type": "code",
   "execution_count": null,
   "id": "e72f3e3f",
   "metadata": {
    "slideshow": {
     "slide_type": "fragment"
    }
   },
   "outputs": [],
   "source": [
    "joe = Person(\"Joseph Park\")\n",
    "jill = Person(\"Jillian Rodriguez\")"
   ]
  },
  {
   "cell_type": "code",
   "execution_count": null,
   "id": "418b87d7",
   "metadata": {
    "slideshow": {
     "slide_type": "fragment"
    }
   },
   "outputs": [],
   "source": [
    "jill.all_people"
   ]
  },
  {
   "cell_type": "markdown",
   "id": "cae2c29e",
   "metadata": {
    "slideshow": {
     "slide_type": "slide"
    }
   },
   "source": [
    "<center><h1>Challenge Problem</h1></center>\n",
    "\n",
    "Let's revisit our `Vector` class that we created previously. In particular, there is a `__getitem__()` magic method that allows us to implement indexing with square brackes.  The `__getitem__()` method should take an `index` argument, which will be an integer, that we can use to access elements of the `data` attribute. Let's implement `__getitem__()` for our `Vector` class so that the following code works."
   ]
  },
  {
   "cell_type": "code",
   "execution_count": null,
   "id": "58138cf3",
   "metadata": {
    "slideshow": {
     "slide_type": "-"
    }
   },
   "outputs": [],
   "source": [
    "vec1 = Vector(11, 22, 33, 44)\n",
    "\n",
    "vec[0] == 11                    # square bracket indexing available when we implement __getitem__()"
   ]
  }
 ],
 "metadata": {
  "@webio": {
   "lastCommId": null,
   "lastKernelId": null
  },
  "celltoolbar": "Slideshow",
  "kernelspec": {
   "display_name": "Python 3 (ipykernel)",
   "language": "python",
   "name": "python3"
  },
  "language_info": {
   "codemirror_mode": {
    "name": "ipython",
    "version": 3
   },
   "file_extension": ".py",
   "mimetype": "text/x-python",
   "name": "python",
   "nbconvert_exporter": "python",
   "pygments_lexer": "ipython3",
   "version": "3.8.11"
  }
 },
 "nbformat": 4,
 "nbformat_minor": 5
}
