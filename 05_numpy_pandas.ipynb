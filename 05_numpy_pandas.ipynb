{
 "cells": [
  {
   "cell_type": "markdown",
   "metadata": {
    "slideshow": {
     "slide_type": "slide"
    }
   },
   "source": [
    "<center><h1>NumPy Package</h1></center>\n",
    "<center><h3>Paul Stey</h3></center>\n",
    "<center><h3>2022-02-22</h3></center>\n"
   ]
  },
  {
   "cell_type": "markdown",
   "metadata": {
    "slideshow": {
     "slide_type": "slide"
    }
   },
   "source": [
    "# NumPy Package\n",
    "\n",
    "The NumPy package is one of the most widely-used tools for scientific computing in Python. NumPy—short for Numerical Python—is a package filled with data structures and algorithms for working on mathematical problems.\n",
    "\n",
    "* Provides support for working with large, multi-dimensional arrays and matrices. It is built for numerical computing and scientific computing tasks.\n",
    "\n",
    "* Provides a range of mathematical functions that can be performed on arrays, such as trigonometric, logarithmic, and exponential functions. It also provides linear algebra operations and random number generation\n",
    "\n",
    "* Allows for efficient array operations because it is implemented in C \n",
    "  - This makes it faster than performing the same operations in pure Python code\n",
    "\n",
    "* Is the foundation for many other scientific computing packages in Python, such as Pandas, SciPy, and scikit-learn. \n",
    "\n",
    "* Is open source software and is widely used in both academia and industry. "
   ]
  },
  {
   "cell_type": "markdown",
   "metadata": {
    "slideshow": {
     "slide_type": "subslide"
    }
   },
   "source": [
    "## NumPy Arrays"
   ]
  },
  {
   "cell_type": "code",
   "execution_count": null,
   "metadata": {
    "slideshow": {
     "slide_type": "fragment"
    }
   },
   "outputs": [],
   "source": [
    "import numpy as np          # import numpy and alias it as `np`"
   ]
  },
  {
   "cell_type": "code",
   "execution_count": null,
   "metadata": {
    "slideshow": {
     "slide_type": "fragment"
    }
   },
   "outputs": [],
   "source": [
    "a = np.array([2, 3, 45])    # create numpy array\n",
    "\n",
    "print(a)"
   ]
  },
  {
   "cell_type": "code",
   "execution_count": null,
   "metadata": {
    "slideshow": {
     "slide_type": "fragment"
    }
   },
   "outputs": [],
   "source": [
    "print(type(a))              # shows type of `a`\n",
    "\n",
    "print(a.shape)              # prints \"(3,)\""
   ]
  },
  {
   "cell_type": "markdown",
   "metadata": {
    "slideshow": {
     "slide_type": "subslide"
    }
   },
   "source": [
    "## Array Indexing\n",
    "\n",
    "NumPy's `array` indexing works much like it does with lists."
   ]
  },
  {
   "cell_type": "code",
   "execution_count": null,
   "metadata": {
    "slideshow": {
     "slide_type": "fragment"
    }
   },
   "outputs": [],
   "source": [
    "print(a[0], a[1], a[2])        # prints \"1 2 45\""
   ]
  },
  {
   "cell_type": "code",
   "execution_count": null,
   "metadata": {
    "slideshow": {
     "slide_type": "fragment"
    }
   },
   "outputs": [],
   "source": [
    "a[0] = 9999                    # change an element in place\n",
    "\n",
    "print(a)                       # prints \"[9999, 2, 3]\""
   ]
  },
  {
   "cell_type": "code",
   "execution_count": null,
   "metadata": {
    "slideshow": {
     "slide_type": "fragment"
    }
   },
   "outputs": [],
   "source": [
    "v = np.random.normal(0, 1, 5)  # draws from normal dist'n with mean 0, and SD 1\n",
    "\n",
    "print(v)"
   ]
  },
  {
   "cell_type": "code",
   "execution_count": null,
   "metadata": {
    "slideshow": {
     "slide_type": "fragment"
    }
   },
   "outputs": [],
   "source": [
    "v[0:3]                         # get first 3 elements"
   ]
  },
  {
   "cell_type": "markdown",
   "metadata": {
    "slideshow": {
     "slide_type": "subslide"
    }
   },
   "source": [
    "### More Array Indexing"
   ]
  },
  {
   "cell_type": "code",
   "execution_count": null,
   "metadata": {
    "slideshow": {
     "slide_type": "fragment"
    }
   },
   "outputs": [],
   "source": [
    "print(v)"
   ]
  },
  {
   "cell_type": "code",
   "execution_count": null,
   "metadata": {
    "slideshow": {
     "slide_type": "fragment"
    }
   },
   "outputs": [],
   "source": [
    "v[-1]                   # get the last element"
   ]
  },
  {
   "cell_type": "code",
   "execution_count": null,
   "metadata": {
    "slideshow": {
     "slide_type": "fragment"
    }
   },
   "outputs": [],
   "source": [
    "v[-2]                   # get the second-to-last element"
   ]
  },
  {
   "cell_type": "code",
   "execution_count": null,
   "metadata": {
    "slideshow": {
     "slide_type": "fragment"
    }
   },
   "outputs": [],
   "source": [
    "v[2:]                   # get the third element and everything after "
   ]
  },
  {
   "cell_type": "markdown",
   "metadata": {
    "slideshow": {
     "slide_type": "subslide"
    }
   },
   "source": [
    "## Two-Dimensional Arrays (i.e., Matrices)"
   ]
  },
  {
   "cell_type": "code",
   "execution_count": null,
   "metadata": {
    "slideshow": {
     "slide_type": "fragment"
    }
   },
   "outputs": [],
   "source": [
    "b = np.array([[1,2,3],\n",
    "              [4,5,6]])            # create 2-d array (i.e., matrix)\n",
    "\n",
    "print(b)                     "
   ]
  },
  {
   "cell_type": "code",
   "execution_count": null,
   "metadata": {
    "slideshow": {
     "slide_type": "fragment"
    }
   },
   "outputs": [],
   "source": [
    "print(b[0, 0], b[0, 1], b[1, 0])   # prints \"1 2 4\""
   ]
  },
  {
   "cell_type": "code",
   "execution_count": null,
   "metadata": {
    "slideshow": {
     "slide_type": "fragment"
    }
   },
   "outputs": [],
   "source": [
    "a = np.zeros((2,2))                # create an array of all zeros\n",
    "\n",
    "print(a)"
   ]
  },
  {
   "cell_type": "markdown",
   "metadata": {
    "slideshow": {
     "slide_type": "subslide"
    }
   },
   "source": [
    "### More Matrices"
   ]
  },
  {
   "cell_type": "code",
   "execution_count": null,
   "metadata": {
    "slideshow": {
     "slide_type": "-"
    }
   },
   "outputs": [],
   "source": [
    "b = np.ones((1, 5))    # create an array of all ones\n",
    "\n",
    "print(b)              "
   ]
  },
  {
   "cell_type": "code",
   "execution_count": null,
   "metadata": {
    "slideshow": {
     "slide_type": "fragment"
    }
   },
   "outputs": [],
   "source": [
    "c = np.full((2, 2), 7)  # 2x2 array of 7s\n",
    "\n",
    "print(c)               "
   ]
  },
  {
   "cell_type": "code",
   "execution_count": null,
   "metadata": {
    "slideshow": {
     "slide_type": "fragment"
    }
   },
   "outputs": [],
   "source": [
    "d = np.full((2, 4), \"potato\")\n",
    "\n",
    "print(d)"
   ]
  },
  {
   "cell_type": "markdown",
   "metadata": {
    "slideshow": {
     "slide_type": "slide"
    }
   },
   "source": [
    "<center><h1>Challenge Problem</h1></center>\n",
    "\n",
    "In this exercise our goal is to normalize a 2D array. We will do the following: \n",
    "\n",
    "* Create a 2D NumPy array with the following values: `[[1, 2, 3], [4, 5, 6], [7, 8, 9]]`\n",
    "* Normalize the array so that each column has zero mean and unit variance. To do this, subtract the mean of each column from each element in that column, then divide each element in that column by the standard deviation of that column.\n",
    "\n",
    "* Print the normalized array to the console.\n",
    "\n",
    "The NumPy module has built-in functions for computing the mean (i.e., `np.mean()`) as well as the standard deviation (i.e., `np.std()`). Let's use these in our computation.\n",
    "\n",
    "**Hint**: Note that we want to use these functions to operate on the _columns_. This is controlled by the `axis` argument on the `np.mean()` and `np.std()` functions. By default, the axis argument in NumPy functions is set to None, which means that the function will calculate the mean over the entire array. However, you can set axis to an integer value to specify which axis to perform the calculation on. For example, if you have a two-dimensional array and set axis to 0, the function will calculate the mean of each column, while setting axis to 1 will calculate the mean of each row."
   ]
  },
  {
   "cell_type": "markdown",
   "metadata": {
    "slideshow": {
     "slide_type": "slide"
    }
   },
   "source": [
    "## Why NumPy Arrays?\n",
    "\n",
    "The `array` type is superficially similar to the `list` type in Python, however, the major strength of the NumPy `array` is that the implementation of the data structure is _very highly optimized_ for speed."
   ]
  },
  {
   "cell_type": "code",
   "execution_count": null,
   "metadata": {
    "slideshow": {
     "slide_type": "fragment"
    }
   },
   "outputs": [],
   "source": [
    "a_arr = np.random.normal(0, 1, 10_000_000)  # random draws from normal dist'n\n",
    "\n",
    "a_list = list(a_arr)                        # cast as a list"
   ]
  },
  {
   "cell_type": "code",
   "execution_count": null,
   "metadata": {
    "slideshow": {
     "slide_type": "fragment"
    }
   },
   "outputs": [],
   "source": [
    "%timeit np.sum(a_list)"
   ]
  },
  {
   "cell_type": "code",
   "execution_count": null,
   "metadata": {
    "slideshow": {
     "slide_type": "fragment"
    }
   },
   "outputs": [],
   "source": [
    "%timeit np.sum(a_arr)"
   ]
  },
  {
   "cell_type": "markdown",
   "metadata": {
    "slideshow": {
     "slide_type": "slide"
    }
   },
   "source": [
    "# Vectorize Operations with NumPy\n",
    "\n",
    "* Vectorized operations perform a computation on an entire array, rather than on individual elements of the array\n",
    "\n",
    "* Vectorized operations can be performed much, _much_ faster than operations that are performed on individual elements of the array using loops or list comprehensions\n",
    "\n",
    "* NumPy provides a wide range of vectorized operations, including mathematical operations such as addition, subtraction, multiplication, and division, as well as logical operations such as AND, OR, and NOT\n",
    "\n",
    "* Using vectorized operations with NumPy can make code much faster and easier to read. By avoiding the use of loops and list comprehensions, code becomes more concise and easier to debug. \n"
   ]
  },
  {
   "cell_type": "markdown",
   "metadata": {
    "slideshow": {
     "slide_type": "subslide"
    }
   },
   "source": [
    "## Vectorize Addition Example"
   ]
  },
  {
   "cell_type": "code",
   "execution_count": null,
   "metadata": {
    "slideshow": {
     "slide_type": "fragment"
    }
   },
   "outputs": [],
   "source": [
    "a = np.array([0, 2, 4, 6])      # create NumPy array\n",
    "\n",
    "a_new = a + 1                   # add 1 to all elements\n",
    "\n",
    "print(a_new)"
   ]
  },
  {
   "cell_type": "code",
   "execution_count": null,
   "metadata": {
    "slideshow": {
     "slide_type": "fragment"
    }
   },
   "outputs": [],
   "source": [
    "a2 = [0, 2, 4, 6]               # create list\n",
    "\n",
    "a2_new = [x + 1 for x in a2]    # add 1 to all elements\n",
    "\n",
    "print(a2_new)"
   ]
  },
  {
   "cell_type": "markdown",
   "metadata": {
    "slideshow": {
     "slide_type": "subslide"
    }
   },
   "source": [
    "### Performance of Vectorization\n",
    "\n",
    "Taking advantage of vectorization in NumPy will typically lead to a performance improvement; often, the improvement will be substantial."
   ]
  },
  {
   "cell_type": "code",
   "execution_count": null,
   "metadata": {
    "slideshow": {
     "slide_type": "fragment"
    }
   },
   "outputs": [],
   "source": [
    "b_arr = np.random.normal(0, 1, 10_000_000)  # random draws from normal dist'n\n",
    "\n",
    "b_list = list(b_arr)                        # cast as a list\n"
   ]
  },
  {
   "cell_type": "code",
   "execution_count": null,
   "metadata": {
    "slideshow": {
     "slide_type": "fragment"
    }
   },
   "outputs": [],
   "source": [
    "%timeit [x + 1 for x in b_list]             # list comprehension adds 1 to all elements"
   ]
  },
  {
   "cell_type": "code",
   "execution_count": null,
   "metadata": {
    "slideshow": {
     "slide_type": "fragment"
    }
   },
   "outputs": [],
   "source": [
    "%timeit b_arr + 1                           # add 1 to each element"
   ]
  },
  {
   "cell_type": "markdown",
   "metadata": {
    "slideshow": {
     "slide_type": "slide"
    }
   },
   "source": [
    "<center><h1>Pandas DataFrames</h1></center>\n"
   ]
  },
  {
   "cell_type": "markdown",
   "metadata": {
    "slideshow": {
     "slide_type": "slide"
    }
   },
   "source": [
    "# Pandas Overview\n",
    "\n",
    "* Hugely popular Python package for the analysis of data. The name, in fact, comes from the concatentation of \"_Python for Data Analysis_\". \n",
    "\n",
    "* Provides powerful data manipulation and analysis capabilities. It is built on top of NumPy and provides a high-level interface for working with structured data, such as tables and time series data.\n",
    "\n",
    "* Provides two key data structures: `Series` and `DataFrame`. A Series is a one-dimensional array-like object that can hold any data type, while a DataFrame is a two-dimensional table of data with rows and columns.\n",
    "\n",
    "* Provides a wide range of functions and methods for manipulating and analyzing data, including filtering, sorting, grouping, merging, reshaping, and pivoting. \n",
    "\n",
    "* Pandas is especially useful for working with structured data, such as data from CSV files, Excel spreadsheets, SQL databases, and other data sources."
   ]
  },
  {
   "cell_type": "code",
   "execution_count": null,
   "metadata": {
    "slideshow": {
     "slide_type": "fragment"
    }
   },
   "outputs": [],
   "source": [
    "import pandas as pd          # import pandas and alias it as \"pd\""
   ]
  },
  {
   "cell_type": "markdown",
   "metadata": {
    "slideshow": {
     "slide_type": "subslide"
    }
   },
   "source": [
    "## Pandas `DataFrame`\n",
    "\n",
    "As a reminder, a `DataFrame` is a tabular data structure. It is superficially similar a table in Excel. "
   ]
  },
  {
   "cell_type": "code",
   "execution_count": null,
   "metadata": {
    "slideshow": {
     "slide_type": "fragment"
    }
   },
   "outputs": [],
   "source": [
    "# Use pd.DataFrame() to construct a dataframe\n",
    "\n",
    "df = pd.DataFrame({\"x1\": [412, 5, 6, 67],\n",
    "                   \"x2\": [\"soup\", \"shoe\", \"cat\", \"potato\"]})\n",
    "\n",
    "df"
   ]
  },
  {
   "cell_type": "markdown",
   "metadata": {
    "slideshow": {
     "slide_type": "subslide"
    }
   },
   "source": [
    "## Reading in Data"
   ]
  },
  {
   "cell_type": "code",
   "execution_count": null,
   "metadata": {
    "slideshow": {
     "slide_type": "fragment"
    }
   },
   "outputs": [],
   "source": [
    "arrests_df = pd.read_csv(\"data/pvd_arrests_2021-10-03.csv\")   # read in data"
   ]
  },
  {
   "cell_type": "code",
   "execution_count": null,
   "metadata": {
    "slideshow": {
     "slide_type": "fragment"
    }
   },
   "outputs": [],
   "source": [
    "arrests_df.head()                                             # show first few lines"
   ]
  },
  {
   "cell_type": "markdown",
   "metadata": {
    "slideshow": {
     "slide_type": "subslide"
    }
   },
   "source": [
    "## Indexing and Slicing `DataFrame`s\n",
    "\n",
    "For better or worse, there are several ways to do indexing and slicing using Pandas `DataFrame` objects. \n",
    "\n",
    "We will discuss the `[]`, `loc`, and `iloc` methods."
   ]
  },
  {
   "cell_type": "code",
   "execution_count": null,
   "metadata": {
    "slideshow": {
     "slide_type": "fragment"
    }
   },
   "outputs": [],
   "source": [
    "arrests_df[\"age\"]       # get entire column"
   ]
  },
  {
   "cell_type": "markdown",
   "metadata": {
    "slideshow": {
     "slide_type": "subslide"
    }
   },
   "source": [
    "### Using `loc` for Indexing and Slicing"
   ]
  },
  {
   "cell_type": "code",
   "execution_count": null,
   "metadata": {
    "slideshow": {
     "slide_type": "fragment"
    }
   },
   "outputs": [],
   "source": [
    "arrests_df.loc[:, [\"age\", \"gender\", \"statute_desc\"]]      # `loc` is for label-based indexing"
   ]
  },
  {
   "cell_type": "markdown",
   "metadata": {
    "slideshow": {
     "slide_type": "subslide"
    }
   },
   "source": [
    "### Using `iloc` for Indexing and Slicing"
   ]
  },
  {
   "cell_type": "code",
   "execution_count": null,
   "metadata": {
    "slideshow": {
     "slide_type": "fragment"
    }
   },
   "outputs": [],
   "source": [
    "arrests_df.iloc[0:3, 0:5]     # `iloc` is for integer-based indexing"
   ]
  },
  {
   "cell_type": "markdown",
   "metadata": {
    "slideshow": {
     "slide_type": "subslide"
    }
   },
   "source": [
    "### Indexing with Booleans"
   ]
  },
  {
   "cell_type": "code",
   "execution_count": null,
   "metadata": {
    "slideshow": {
     "slide_type": "fragment"
    }
   },
   "outputs": [],
   "source": [
    "arrests_df[\"age\"] > 40        # series of boolean"
   ]
  },
  {
   "cell_type": "code",
   "execution_count": null,
   "metadata": {
    "slideshow": {
     "slide_type": "fragment"
    }
   },
   "outputs": [],
   "source": [
    "arrests_df.loc[arrests_df[\"age\"] < 19, [\"age\", \"gender\", \"statute_desc\"]]"
   ]
  },
  {
   "cell_type": "markdown",
   "metadata": {
    "slideshow": {
     "slide_type": "slide"
    }
   },
   "source": [
    "\n",
    "<center><h1>Challenge Problem</h1></center>\n",
    "\n",
    "Pandas `DataFrame`s can built from NumPy arrays (among other kinds of objects). \n",
    "\n",
    "Use two NumPy arrays to create a Pandas `DataFrame` with two columns, `x`, and `y`. The first should be 100 random numbers drawn from the standard normal distribution, and the second should be 100 random numbers from the uniform distribution with numbers between `0.0` and `1.0`, inclusive.\n",
    "\n",
    "**_Hint_**: We can use the `random.normal()` function in the NumPy module to take draws from Normal distributions. And similarly, we can use `random.uniform()` to take draws from Uniform distributions."
   ]
  },
  {
   "cell_type": "markdown",
   "metadata": {
    "slideshow": {
     "slide_type": "slide"
    }
   },
   "source": [
    "<center><h1>Grouped DataFrames</h1></center>\n",
    "\n",
    "* Powerful feature in Pandas that allow you to group data by one or more columns in a `DataFrame`, and then apply a function to each group. This is useful for tasks like calculating summary statistics, performing aggregations\n",
    "\n",
    "* Created using the `groupby()` method, which groups data by one or more columns in the DataFrame. The resulting object is a `GroupBy` object, which is a special type of `DataFrame` that allows you to apply functions to each group.\n",
    "\n",
    "* Support a wide range of functions and methods for performing operations on each group, including aggregations like `mean()`, `sum()`, and `count()`, as well as transformations like `apply()`, `transform()`, and `filter()`. These functions can be used to create new columns, filter data, and perform calculations on each group.\n",
    "\n",
    "* Can be used to create pivot tables, which are a powerful tool for summarizing and analyzing data\n",
    "\n",
    "* Key feature in data analysis and data science, and are widely used in a variety of applications, such as finance, marketing, and scientific research. They provide a flexible and efficient way to work with large datasets and perform complex calculations on each group."
   ]
  },
  {
   "cell_type": "markdown",
   "metadata": {
    "slideshow": {
     "slide_type": "slide"
    }
   },
   "source": [
    "# Grouping in Pandas\n",
    "\n",
    "In addition to the `DataFrames` object, the Pandas package in Python also supports a huge vareity of grouping, sub-setting, and aggregations functions. These can provide some functionality similar to the _dplyr_ package in R."
   ]
  },
  {
   "cell_type": "code",
   "execution_count": null,
   "metadata": {
    "slideshow": {
     "slide_type": "fragment"
    }
   },
   "outputs": [],
   "source": [
    "# create sample data\n",
    "student_df = pd.DataFrame({\n",
    "    \"name\":    [\"Alice\", \"Bob\", \"Charlie\", \"Dave\", \"Eve\", \"Lee\", \"Isabel\"],\n",
    "    \"subject\": [\"Math\", \"English\", \"Math\", \"English\", \"Math\", \"English\", \"Math\"],\n",
    "    \"grade\":   [80, 90, 81, 75, 95, 93, 81]\n",
    "})\n",
    "\n",
    "grouped_df = student_df.groupby(\"subject\")    # group by subject\n",
    "\n",
    "\n",
    "grouped_df[\"grade\"].mean()                    # compute mean by subject"
   ]
  },
  {
   "cell_type": "code",
   "execution_count": null,
   "metadata": {
    "slideshow": {
     "slide_type": "fragment"
    }
   },
   "outputs": [],
   "source": [
    "student_df.groupby(\"subject\").describe()      # verbose summary"
   ]
  },
  {
   "cell_type": "markdown",
   "metadata": {
    "slideshow": {
     "slide_type": "subslide"
    }
   },
   "source": [
    "### Grouped DataFrame"
   ]
  },
  {
   "cell_type": "code",
   "execution_count": null,
   "metadata": {
    "slideshow": {
     "slide_type": "-"
    }
   },
   "outputs": [],
   "source": [
    "animal_df = pd.DataFrame({\"iq\":     [75, 4, 55, 63, 44, 65, 59, 6],\n",
    "                          \"age\":    [2, 33, 4, 12, 8, 4, 7, 9],\n",
    "                          \"animal\": [\"llama\", \"shoe\", \"cat\", \"llama\", \"cat\", \"llama\", \"cat\", \"shoe\"]}) "
   ]
  },
  {
   "cell_type": "code",
   "execution_count": null,
   "metadata": {
    "slideshow": {
     "slide_type": "fragment"
    }
   },
   "outputs": [],
   "source": [
    "grp_df = animal_df.groupby(\"animal\")       # save grouped dataframe obj"
   ]
  },
  {
   "cell_type": "code",
   "execution_count": null,
   "metadata": {
    "slideshow": {
     "slide_type": "fragment"
    }
   },
   "outputs": [],
   "source": [
    "grp_df.groups                              # see the groups we have"
   ]
  },
  {
   "cell_type": "code",
   "execution_count": null,
   "metadata": {
    "slideshow": {
     "slide_type": "fragment"
    }
   },
   "outputs": [],
   "source": [
    "grp_df.get_group(\"cat\")                    # get dataframe of single group"
   ]
  },
  {
   "cell_type": "markdown",
   "metadata": {
    "slideshow": {
     "slide_type": "subslide"
    }
   },
   "source": [
    "## Using Arrest Data"
   ]
  },
  {
   "cell_type": "code",
   "execution_count": null,
   "metadata": {
    "slideshow": {
     "slide_type": "fragment"
    }
   },
   "outputs": [],
   "source": [
    "arrests_df = pd.read_csv(\"data/pvd_arrests_2021-10-03.csv\")   # read in data\n",
    "\n",
    "arrests_df.shape"
   ]
  },
  {
   "cell_type": "code",
   "execution_count": null,
   "metadata": {
    "slideshow": {
     "slide_type": "fragment"
    }
   },
   "outputs": [],
   "source": [
    "grp_df = arrests_df.groupby(\"id\")"
   ]
  },
  {
   "cell_type": "code",
   "execution_count": null,
   "metadata": {
    "slideshow": {
     "slide_type": "fragment"
    }
   },
   "outputs": [],
   "source": [
    "grp_df['case_number'].size()"
   ]
  },
  {
   "cell_type": "code",
   "execution_count": null,
   "metadata": {
    "slideshow": {
     "slide_type": "fragment"
    }
   },
   "outputs": [],
   "source": [
    "grp_df.get_group(\"pvd9871727665829819099\")"
   ]
  },
  {
   "cell_type": "markdown",
   "metadata": {
    "slideshow": {
     "slide_type": "slide"
    }
   },
   "source": [
    "<center><h1>Challenge Problem</h1></center>\n",
    "\n",
    "Let's write some code to determine the most frequent statute violations. In particular, let's use the `groupby()` method on the `\"statute_desc\"` column to create a grouped dataframe. Then let's use the `size()` method on that grouped dataframe to get the total counts of violations for that statute. \n",
    "\n",
    "Finally, let's use the `sort_values()` method on the resulting object, while passsing that method the argument `ascending = False` to get the violations sorted in descending order. \n"
   ]
  }
 ],
 "metadata": {
  "@webio": {
   "lastCommId": null,
   "lastKernelId": null
  },
  "celltoolbar": "Slideshow",
  "kernelspec": {
   "display_name": "Python 3 (ipykernel)",
   "language": "python",
   "name": "python3"
  },
  "language_info": {
   "codemirror_mode": {
    "name": "ipython",
    "version": 3
   },
   "file_extension": ".py",
   "mimetype": "text/x-python",
   "name": "python",
   "nbconvert_exporter": "python",
   "pygments_lexer": "ipython3",
   "version": "3.8.11"
  }
 },
 "nbformat": 4,
 "nbformat_minor": 4
}
